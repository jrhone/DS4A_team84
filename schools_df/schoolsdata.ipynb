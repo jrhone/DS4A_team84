{
 "cells": [
  {
   "cell_type": "code",
   "execution_count": 5,
   "metadata": {},
   "outputs": [
    {
     "name": "stdout",
     "output_type": "stream",
     "text": [
      "\"County Code\",\"District Code\",\"School Code\",\"Filler\",\"Test Year\",\"Subgroup ID\",\"Test Type\",\"Total Tested At Entity Level\",\"Total Tested with Scores\",\"Grade\",\"Test Id\",\"CAASPP Reported Enrollment\",\"Students Tested\",\"Mean Scale Score\",\"Percentage Standard Exceeded\",\"Percentage Standard Met\",\"Percentage Standard Met and Above\",\"Percentage Standard Nearly Met\",\"Percentage Standard Not Met\",\"Students with Scores\",\"Area 1 Percentage Above Standard\",\"Area 1 Percentage Near Standard\",\"Area 1 Percentage Below Standard\",\"Area 2 Percentage Above Standard\",\"Area 2 Percentage Near Standard\",\"Area 2 Percentage Below Standard\",\"Area 3 Percentage Above Standard\",\"Area 3 Percentage Near Standard\",\"Area 3 Percentage Below Standard\",\"Area 4 Percentage Above Standard\",\"Area 4 Percentage Near Standard\",\"Area 4 Percentage Below Standard\"\n",
      "\n"
     ]
    }
   ],
   "source": [
    "file1 = open('sb_ca2017_all_csv_v2.txt', 'r') \n",
    "Lines = file1.readlines()\n",
    "file2 = open('schoolsdata_eco_ethnicity.txt', 'w') \n",
    "for x in range(0,3264974):\n",
    "    if \"County Code\" in Lines[x].split(\",\")[0]:\n",
    "        print(Lines[x])\n",
    "        file2.writelines(Lines[x]) \n",
    "    elif '\"00\"' == Lines[x].split(\",\")[0]:\n",
    "        continue\n",
    "    elif '\"00000\"' == Lines[x].split(\",\")[1]:\n",
    "        #then skip\n",
    "        continue  \n",
    "        #then skip\n",
    "    file2.writelines(Lines[x]) \n",
    "# examples:\n",
    "#     \"County Code\": goes from 00 -  58 -we dont want \"00\"\n",
    "#     \"County Code\",\"District Code\",\"School Code\",\n",
    "#     \"00\",\"00000\",\"0000000\" -- remove because it's state-wide data\n",
    "#     \"01\",\"00000\",\"0000000\" -- remove because this is the summary of the county \n",
    "#     \"01\",\"10017\",\"0000000\" -- remove it because this data at the district total: total for all schools\n",
    "#     \"01\",\"10017\",\"0112607\" -- keep - because school code is dif. than 00000000\n",
    "file2.close() "
   ]
  },
  {
   "cell_type": "code",
   "execution_count": null,
   "metadata": {},
   "outputs": [],
   "source": []
  }
 ],
 "metadata": {
  "kernelspec": {
   "display_name": "Python 3",
   "language": "python",
   "name": "python3"
  },
  "language_info": {
   "codemirror_mode": {
    "name": "ipython",
    "version": 3
   },
   "file_extension": ".py",
   "mimetype": "text/x-python",
   "name": "python",
   "nbconvert_exporter": "python",
   "pygments_lexer": "ipython3",
   "version": "3.6.7"
  }
 },
 "nbformat": 4,
 "nbformat_minor": 2
}
